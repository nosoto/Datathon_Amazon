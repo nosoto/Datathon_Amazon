{
  "nbformat": 4,
  "nbformat_minor": 0,
  "metadata": {
    "colab": {
      "name": "DataTuna_EDA.ipynb",
      "provenance": []
    },
    "kernelspec": {
      "name": "python3",
      "display_name": "Python 3"
    },
    "language_info": {
      "name": "python"
    }
  },
  "cells": [
    {
      "cell_type": "code",
      "source": [
        "### Import Modules\n",
        "import pandas as pd\n",
        "import seaborn as sns\n",
        "import matplotlib.pyplot as plt\n",
        "import warnings\n",
        "warnings.filterwarnings('ignore')\n",
        "import numpy as np\n",
        "from fbprophet import Prophet"
      ],
      "metadata": {
        "id": "iBOUJCRfBqXn"
      },
      "execution_count": null,
      "outputs": []
    },
    {
      "cell_type": "code",
      "execution_count": null,
      "metadata": {
        "id": "rkY-7wJ1BDMK"
      },
      "outputs": [],
      "source": [
        "### Read in Data\n",
        "# Train Dara\n",
        "df = pd.read_csv('train_data.csv')\n",
        "print(df.shape)\n",
        "\n",
        "# Test Data\n",
        "df_test = pd.read_csv('test.csv')\n",
        "print(df_test.shape)"
      ]
    },
    {
      "cell_type": "code",
      "source": [
        "### Print Train Data\n",
        "df.head()\n",
        "#df.info()"
      ],
      "metadata": {
        "id": "Vucnhaf_7gAz"
      },
      "execution_count": null,
      "outputs": []
    },
    {
      "cell_type": "code",
      "source": [
        "### Print Test Data\n",
        "df_test.head()\n",
        "#df_test.info()"
      ],
      "metadata": {
        "id": "6oZ7Jj9vgF7_"
      },
      "execution_count": null,
      "outputs": []
    },
    {
      "cell_type": "code",
      "source": [
        "### Create Target & Date Variable\n",
        "# Target is Earlier as Expected minus not delivered\n",
        "df['target'] = df.Earlies_Exp - df.MNR_SNR_Exp\n",
        "# Change ofd_dare into Date Format to extract year month day and weekday\n",
        "df['ds'] = pd.to_datetime(df.ofd_date, infer_datetime_format=True) \n",
        "\n",
        "# Creatig Variables for Year, Month, Day, Week\n",
        "df['year'] = pd.DatetimeIndex(df['ds']).year.astype(\"category\")\n",
        "df['month'] = pd.DatetimeIndex(df['ds']).month.astype(\"category\")\n",
        "df['day'] = pd.DatetimeIndex(df['ds']).day.astype(\"category\")\n",
        "df['weekday'] = pd.DatetimeIndex(df['ds']).dayofweek.astype(\"category\")\n"
      ],
      "metadata": {
        "id": "IC4au3HJhSJo"
      },
      "execution_count": null,
      "outputs": []
    },
    {
      "cell_type": "code",
      "source": [
        "### Look at seasonalities plotting Target and Weekday, Month, day\n",
        "fig, axes = plt.subplots(1, 3, figsize=(20,7), dpi= 80)\n",
        "ax1= sns.boxplot(x='weekday', y='target', data=df, ax=axes[0])\n",
        "ax1.set_ylim([-1000, 2000]) \n",
        "ax2=sns.boxplot(x='month', y='target', data=df, ax=axes[1])\n",
        "ax2.set_ylim([-1000, 2000]) \n",
        "ax3=sns.boxplot(x='day', y='target', data=df, ax=axes[1])\n",
        "ax3.set_ylim([-1000, 2000]) "
      ],
      "metadata": {
        "id": "3FCdWKOOKLfK"
      },
      "execution_count": null,
      "outputs": []
    },
    {
      "cell_type": "code",
      "source": [
        "### Define Plot Function to have a look at the other variables over time\n",
        "def plot_df(df, x, y, title=\"\", xlabel='ofd_date', ylabel='', dpi=100):\n",
        "    plt.figure(figsize=(16,5), dpi=dpi)\n",
        "    plt.plot(x, y, color='tab:red')\n",
        "    plt.gca().set(title=title, xlabel=xlabel, ylabel=ylabel)\n",
        "    plt.show()"
      ],
      "metadata": {
        "id": "vsLG5T16gdD8"
      },
      "execution_count": null,
      "outputs": []
    },
    {
      "cell_type": "code",
      "source": [
        "## Plot Slam\n",
        "plot_df(df, x=df.ofd_date, y=df.Slam, title='Slam', ylabel = 'Slam')    "
      ],
      "metadata": {
        "id": "8Eiah7SNBwtG"
      },
      "execution_count": null,
      "outputs": []
    },
    {
      "cell_type": "code",
      "source": [
        "## Plot OFD\n",
        "plot_df(df, x=df.ofd_date, y=df.OFD, title='OFD', ylabel = 'OFD')  "
      ],
      "metadata": {
        "id": "-12p1R5AFXNI"
      },
      "execution_count": null,
      "outputs": []
    },
    {
      "cell_type": "code",
      "source": [
        "## Plot Target\n",
        "plot_df(df, x=df.ofd_date, y=df.target, title='Target', ylabel = 'Target')    "
      ],
      "metadata": {
        "id": "1PWL85KcF0IQ"
      },
      "execution_count": null,
      "outputs": []
    },
    {
      "cell_type": "code",
      "source": [
        "## Plot Earliers Ex\n",
        "plot_df(df, x=df.ofd_date, y=df.Earlies_Exp, title='Earlies_Exp', ylabel = 'Earlies_Exp')  "
      ],
      "metadata": {
        "id": "qtwEOgSIGKgI"
      },
      "execution_count": null,
      "outputs": []
    },
    {
      "cell_type": "code",
      "source": [
        "## MNR_SNR_Exp\n",
        "plot_df(df, x=df.ofd_date, y=df.MNR_SNR_Exp, title='MNR_SNR_Exp', ylabel = 'MNR_SNR_Exp')  "
      ],
      "metadata": {
        "id": "fk_Iq4CIGNdM"
      },
      "execution_count": null,
      "outputs": []
    }
  ]
}